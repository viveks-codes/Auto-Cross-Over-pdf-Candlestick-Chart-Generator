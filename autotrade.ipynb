{
 "cells": [
  {
   "cell_type": "code",
   "execution_count": 1,
   "metadata": {
    "_cell_guid": "b1076dfc-b9ad-4769-8c92-a6c4dae69d19",
    "_uuid": "8f2839f25d086af736a60e9eeb907d3b93b6e0e5",
    "execution": {
     "iopub.execute_input": "2025-02-06T00:59:08.510091Z",
     "iopub.status.busy": "2025-02-06T00:59:08.509754Z",
     "iopub.status.idle": "2025-02-06T00:59:09.690196Z",
     "shell.execute_reply": "2025-02-06T00:59:09.689050Z",
     "shell.execute_reply.started": "2025-02-06T00:59:08.510063Z"
    },
    "trusted": true
   },
   "outputs": [],
   "source": [
    "# This Python 3 environment comes with many helpful analytics libraries installed\n",
    "# It is defined by the kaggle/python Docker image: https://github.com/kaggle/docker-python\n",
    "# For example, here's several helpful packages to load\n",
    "\n",
    "import numpy as np # linear algebra\n",
    "import pandas as pd # data processing, CSV file I/O (e.g. pd.read_csv)\n",
    "\n",
    "# Input data files are available in the read-only \"../input/\" directory\n",
    "# For example, running this (by clicking run or pressing Shift+Enter) will list all files under the input directory\n",
    "\n",
    "import os\n",
    "for dirname, _, filenames in os.walk('/kaggle/input'):\n",
    "    for filename in filenames:\n",
    "        print(os.path.join(dirname, filename))\n",
    "\n",
    "# You can write up to 20GB to the current directory (/kaggle/working/) that gets preserved as output when you create a version using \"Save & Run All\" \n",
    "# You can also write temporary files to /kaggle/temp/, but they won't be saved outside of the current session"
   ]
  },
  {
   "cell_type": "code",
   "execution_count": 2,
   "metadata": {
    "execution": {
     "iopub.execute_input": "2025-02-06T00:59:32.129233Z",
     "iopub.status.busy": "2025-02-06T00:59:32.128753Z",
     "iopub.status.idle": "2025-02-06T00:59:41.157512Z",
     "shell.execute_reply": "2025-02-06T00:59:41.156206Z",
     "shell.execute_reply.started": "2025-02-06T00:59:32.129198Z"
    },
    "trusted": true
   },
   "outputs": [
    {
     "name": "stdout",
     "output_type": "stream",
     "text": [
      "Requirement already satisfied: requests in /usr/local/lib/python3.10/dist-packages (2.32.3)\n",
      "Requirement already satisfied: yfinance in /usr/local/lib/python3.10/dist-packages (0.2.50)\n",
      "Collecting mplfinance\n",
      "  Downloading mplfinance-0.12.10b0-py3-none-any.whl.metadata (19 kB)\n",
      "Requirement already satisfied: matplotlib in /usr/local/lib/python3.10/dist-packages (3.7.5)\n",
      "Requirement already satisfied: pandas in /usr/local/lib/python3.10/dist-packages (2.2.2)\n",
      "Requirement already satisfied: numpy in /usr/local/lib/python3.10/dist-packages (1.26.4)\n",
      "Collecting fpdf\n",
      "  Downloading fpdf-1.7.2.tar.gz (39 kB)\n",
      "  Preparing metadata (setup.py) ... \u001b[?25l\u001b[?25hdone\n",
      "Requirement already satisfied: flask in /usr/local/lib/python3.10/dist-packages (3.1.0)\n",
      "Collecting gunicorn\n",
      "  Downloading gunicorn-23.0.0-py3-none-any.whl.metadata (4.4 kB)\n",
      "Collecting fpdf2\n",
      "  Downloading fpdf2-2.8.2-py2.py3-none-any.whl.metadata (67 kB)\n",
      "\u001b[2K     \u001b[90m━━━━━━━━━━━━━━━━━━━━━━━━━━━━━━━━━━━━━━━━\u001b[0m \u001b[32m67.0/67.0 kB\u001b[0m \u001b[31m3.6 MB/s\u001b[0m eta \u001b[36m0:00:00\u001b[0m\n",
      "\u001b[?25hCollecting nselib\n",
      "  Downloading nselib-1.5-py3-none-any.whl.metadata (4.7 kB)\n",
      "Requirement already satisfied: charset-normalizer<4,>=2 in /usr/local/lib/python3.10/dist-packages (from requests) (3.4.0)\n",
      "Requirement already satisfied: idna<4,>=2.5 in /usr/local/lib/python3.10/dist-packages (from requests) (3.10)\n",
      "Requirement already satisfied: urllib3<3,>=1.21.1 in /usr/local/lib/python3.10/dist-packages (from requests) (2.2.3)\n",
      "Requirement already satisfied: certifi>=2017.4.17 in /usr/local/lib/python3.10/dist-packages (from requests) (2024.12.14)\n",
      "Requirement already satisfied: multitasking>=0.0.7 in /usr/local/lib/python3.10/dist-packages (from yfinance) (0.0.11)\n",
      "Requirement already satisfied: lxml>=4.9.1 in /usr/local/lib/python3.10/dist-packages (from yfinance) (5.3.0)\n",
      "Requirement already satisfied: platformdirs>=2.0.0 in /usr/local/lib/python3.10/dist-packages (from yfinance) (4.3.6)\n",
      "Requirement already satisfied: pytz>=2022.5 in /usr/local/lib/python3.10/dist-packages (from yfinance) (2024.2)\n",
      "Requirement already satisfied: frozendict>=2.3.4 in /usr/local/lib/python3.10/dist-packages (from yfinance) (2.4.6)\n",
      "Requirement already satisfied: peewee>=3.16.2 in /usr/local/lib/python3.10/dist-packages (from yfinance) (3.17.8)\n",
      "Requirement already satisfied: beautifulsoup4>=4.11.1 in /usr/local/lib/python3.10/dist-packages (from yfinance) (4.12.3)\n",
      "Requirement already satisfied: html5lib>=1.1 in /usr/local/lib/python3.10/dist-packages (from yfinance) (1.1)\n",
      "Requirement already satisfied: contourpy>=1.0.1 in /usr/local/lib/python3.10/dist-packages (from matplotlib) (1.3.1)\n",
      "Requirement already satisfied: cycler>=0.10 in /usr/local/lib/python3.10/dist-packages (from matplotlib) (0.12.1)\n",
      "Requirement already satisfied: fonttools>=4.22.0 in /usr/local/lib/python3.10/dist-packages (from matplotlib) (4.55.3)\n",
      "Requirement already satisfied: kiwisolver>=1.0.1 in /usr/local/lib/python3.10/dist-packages (from matplotlib) (1.4.7)\n",
      "Requirement already satisfied: packaging>=20.0 in /usr/local/lib/python3.10/dist-packages (from matplotlib) (24.2)\n",
      "Requirement already satisfied: pillow>=6.2.0 in /usr/local/lib/python3.10/dist-packages (from matplotlib) (11.0.0)\n",
      "Requirement already satisfied: pyparsing>=2.3.1 in /usr/local/lib/python3.10/dist-packages (from matplotlib) (3.2.0)\n",
      "Requirement already satisfied: python-dateutil>=2.7 in /usr/local/lib/python3.10/dist-packages (from matplotlib) (2.8.2)\n",
      "Requirement already satisfied: tzdata>=2022.7 in /usr/local/lib/python3.10/dist-packages (from pandas) (2024.2)\n",
      "Requirement already satisfied: mkl_fft in /usr/local/lib/python3.10/dist-packages (from numpy) (1.3.8)\n",
      "Requirement already satisfied: mkl_random in /usr/local/lib/python3.10/dist-packages (from numpy) (1.2.4)\n",
      "Requirement already satisfied: mkl_umath in /usr/local/lib/python3.10/dist-packages (from numpy) (0.1.1)\n",
      "Requirement already satisfied: mkl in /usr/local/lib/python3.10/dist-packages (from numpy) (2025.0.1)\n",
      "Requirement already satisfied: tbb4py in /usr/local/lib/python3.10/dist-packages (from numpy) (2022.0.0)\n",
      "Requirement already satisfied: mkl-service in /usr/local/lib/python3.10/dist-packages (from numpy) (2.4.1)\n",
      "Requirement already satisfied: Werkzeug>=3.1 in /usr/local/lib/python3.10/dist-packages (from flask) (3.1.3)\n",
      "Requirement already satisfied: Jinja2>=3.1.2 in /usr/local/lib/python3.10/dist-packages (from flask) (3.1.4)\n",
      "Requirement already satisfied: itsdangerous>=2.2 in /usr/local/lib/python3.10/dist-packages (from flask) (2.2.0)\n",
      "Requirement already satisfied: click>=8.1.3 in /usr/local/lib/python3.10/dist-packages (from flask) (8.1.7)\n",
      "Requirement already satisfied: blinker>=1.9 in /usr/local/lib/python3.10/dist-packages (from flask) (1.9.0)\n",
      "Requirement already satisfied: defusedxml in /usr/local/lib/python3.10/dist-packages (from fpdf2) (0.7.1)\n",
      "Requirement already satisfied: scipy in /usr/local/lib/python3.10/dist-packages (from nselib) (1.13.1)\n",
      "Requirement already satisfied: soupsieve>1.2 in /usr/local/lib/python3.10/dist-packages (from beautifulsoup4>=4.11.1->yfinance) (2.6)\n",
      "Requirement already satisfied: six>=1.9 in /usr/local/lib/python3.10/dist-packages (from html5lib>=1.1->yfinance) (1.17.0)\n",
      "Requirement already satisfied: webencodings in /usr/local/lib/python3.10/dist-packages (from html5lib>=1.1->yfinance) (0.5.1)\n",
      "Requirement already satisfied: MarkupSafe>=2.0 in /usr/local/lib/python3.10/dist-packages (from Jinja2>=3.1.2->flask) (3.0.2)\n",
      "Requirement already satisfied: intel-openmp>=2024 in /usr/local/lib/python3.10/dist-packages (from mkl->numpy) (2024.2.0)\n",
      "Requirement already satisfied: tbb==2022.* in /usr/local/lib/python3.10/dist-packages (from mkl->numpy) (2022.0.0)\n",
      "Requirement already satisfied: tcmlib==1.* in /usr/local/lib/python3.10/dist-packages (from tbb==2022.*->mkl->numpy) (1.2.0)\n",
      "Requirement already satisfied: intel-cmplr-lib-rt in /usr/local/lib/python3.10/dist-packages (from mkl_umath->numpy) (2024.2.0)\n",
      "Requirement already satisfied: intel-cmplr-lib-ur==2024.2.0 in /usr/local/lib/python3.10/dist-packages (from intel-openmp>=2024->mkl->numpy) (2024.2.0)\n",
      "Downloading mplfinance-0.12.10b0-py3-none-any.whl (75 kB)\n",
      "\u001b[2K   \u001b[90m━━━━━━━━━━━━━━━━━━━━━━━━━━━━━━━━━━━━━━━━\u001b[0m \u001b[32m75.0/75.0 kB\u001b[0m \u001b[31m4.1 MB/s\u001b[0m eta \u001b[36m0:00:00\u001b[0m\n",
      "\u001b[?25hDownloading gunicorn-23.0.0-py3-none-any.whl (85 kB)\n",
      "\u001b[2K   \u001b[90m━━━━━━━━━━━━━━━━━━━━━━━━━━━━━━━━━━━━━━━━\u001b[0m \u001b[32m85.0/85.0 kB\u001b[0m \u001b[31m4.4 MB/s\u001b[0m eta \u001b[36m0:00:00\u001b[0m\n",
      "\u001b[?25hDownloading fpdf2-2.8.2-py2.py3-none-any.whl (236 kB)\n",
      "\u001b[2K   \u001b[90m━━━━━━━━━━━━━━━━━━━━━━━━━━━━━━━━━━━━━━━━\u001b[0m \u001b[32m236.3/236.3 kB\u001b[0m \u001b[31m9.9 MB/s\u001b[0m eta \u001b[36m0:00:00\u001b[0m\n",
      "\u001b[?25hDownloading nselib-1.5-py3-none-any.whl (19 kB)\n",
      "Building wheels for collected packages: fpdf\n",
      "  Building wheel for fpdf (setup.py) ... \u001b[?25l\u001b[?25hdone\n",
      "  Created wheel for fpdf: filename=fpdf-1.7.2-py2.py3-none-any.whl size=40704 sha256=aa77070cd2ffd93c21541c0b102264b464fb88a86c1877be4bb90b80e3fc183d\n",
      "  Stored in directory: /root/.cache/pip/wheels/f9/95/ba/f418094659025eb9611f17cbcaf2334236bf39a0c3453ea455\n",
      "Successfully built fpdf\n",
      "Installing collected packages: fpdf, gunicorn, fpdf2, nselib, mplfinance\n",
      "Successfully installed fpdf-1.7.2 fpdf2-2.8.2 gunicorn-23.0.0 mplfinance-0.12.10b0 nselib-1.5\n",
      "Note: you may need to restart the kernel to use updated packages.\n"
     ]
    }
   ],
   "source": [
    "pip install requests yfinance mplfinance matplotlib pandas numpy fpdf flask gunicorn fpdf2 nselib"
   ]
  },
  {
   "cell_type": "code",
   "execution_count": 3,
   "metadata": {
    "execution": {
     "iopub.execute_input": "2025-02-06T01:00:21.910658Z",
     "iopub.status.busy": "2025-02-06T01:00:21.910244Z",
     "iopub.status.idle": "2025-02-06T01:01:03.285529Z",
     "shell.execute_reply": "2025-02-06T01:01:03.284407Z",
     "shell.execute_reply.started": "2025-02-06T01:00:21.910628Z"
    },
    "trusted": true
   },
   "outputs": [
    {
     "name": "stderr",
     "output_type": "stream",
     "text": [
      "/usr/local/lib/python3.10/dist-packages/fpdf/__init__.py:40: UserWarning: You have both PyFPDF & fpdf2 installed. Both packages cannot be installed at the same time as they share the same module namespace. To only keep fpdf2, run: pip uninstall --yes pypdf && pip install --upgrade fpdf2\n",
      "  warnings.warn(\n"
     ]
    },
    {
     "name": "stdout",
     "output_type": "stream",
     "text": [
      "here\n",
      "here2\n",
      "here23\n",
      "Asia/Kolkata\n",
      "trade_date 06-02-2025\n",
      "Attempt 1 failed:  Data not found, change the trade_date...\n",
      "trade_date 05-02-2025\n",
      "trade_date2           SYMBOL SERIES Adjusted52_Week_High 52_Week_High_Date  \\\n",
      "0      20MICRONS     EQ               348.00       22-AUG-2024   \n",
      "1     21STCENMGM     BE               141.40       11-SEP-2024   \n",
      "2         360ONE     EQ              1318.00       06-JAN-2025   \n",
      "3      3IINFOLTD     EQ                61.20       07-FEB-2024   \n",
      "4        3MINDIA     EQ             40856.50       02-JUL-2024   \n",
      "...          ...    ...                  ...               ...   \n",
      "2468        ZOTA     EQ              1060.00       16-JAN-2025   \n",
      "2469       ZUARI     EQ               268.00       03-DEC-2024   \n",
      "2470    ZUARIIND     EQ               423.40       08-JUL-2024   \n",
      "2471   ZYDUSLIFE     EQ              1324.30       09-AUG-2024   \n",
      "2472   ZYDUSWELL     EQ              2484.00       30-JUL-2024   \n",
      "\n",
      "     Adjusted52_Week_Low 52_Week_Low_DT  \n",
      "0                 132.00    13-MAR-2024  \n",
      "1                  40.40    26-MAR-2024  \n",
      "2                 597.25    05-FEB-2024  \n",
      "3                  25.05    28-JAN-2025  \n",
      "4               28369.85    04-FEB-2025  \n",
      "...                  ...            ...  \n",
      "2468              440.10    04-JUN-2024  \n",
      "2469              151.15    04-JUN-2024  \n",
      "2470              245.30    13-FEB-2024  \n",
      "2471              754.10    05-FEB-2024  \n",
      "2472             1440.15    18-MAR-2024  \n",
      "\n",
      "[2473 rows x 6 columns]\n",
      "trade_date2 05-02-2025\n",
      "52-week high stocks found: 33\n",
      "Analyzing AGARWALEYE...\n",
      "Analyzing AMIORG...\n"
     ]
    },
    {
     "name": "stderr",
     "output_type": "stream",
     "text": [
      "<ipython-input-3-d9af0657d8d1>:225: DeprecationWarning: The parameter \"ln\" is deprecated since v2.5.2. Instead of ln=1 use new_x=XPos.LMARGIN, new_y=YPos.NEXT.\n",
      "  self.cell(0, 10, f'{symbol} Institutional Analysis', 0, 1)\n",
      "<ipython-input-3-d9af0657d8d1>:229: DeprecationWarning: The parameter \"ln\" is deprecated since v2.5.2. Instead of ln=1 use new_x=XPos.LMARGIN, new_y=YPos.NEXT.\n",
      "  self.cell(0, 8, 'EMA Crossovers:', 0, 1)\n"
     ]
    },
    {
     "name": "stdout",
     "output_type": "stream",
     "text": [
      "Analyzing AXISGOLD...\n"
     ]
    },
    {
     "name": "stderr",
     "output_type": "stream",
     "text": [
      "<ipython-input-3-d9af0657d8d1>:225: DeprecationWarning: The parameter \"ln\" is deprecated since v2.5.2. Instead of ln=1 use new_x=XPos.LMARGIN, new_y=YPos.NEXT.\n",
      "  self.cell(0, 10, f'{symbol} Institutional Analysis', 0, 1)\n",
      "<ipython-input-3-d9af0657d8d1>:229: DeprecationWarning: The parameter \"ln\" is deprecated since v2.5.2. Instead of ln=1 use new_x=XPos.LMARGIN, new_y=YPos.NEXT.\n",
      "  self.cell(0, 8, 'EMA Crossovers:', 0, 1)\n"
     ]
    },
    {
     "name": "stdout",
     "output_type": "stream",
     "text": [
      "Analyzing BAJFINANCE...\n"
     ]
    },
    {
     "name": "stderr",
     "output_type": "stream",
     "text": [
      "<ipython-input-3-d9af0657d8d1>:225: DeprecationWarning: The parameter \"ln\" is deprecated since v2.5.2. Instead of ln=1 use new_x=XPos.LMARGIN, new_y=YPos.NEXT.\n",
      "  self.cell(0, 10, f'{symbol} Institutional Analysis', 0, 1)\n",
      "<ipython-input-3-d9af0657d8d1>:229: DeprecationWarning: The parameter \"ln\" is deprecated since v2.5.2. Instead of ln=1 use new_x=XPos.LMARGIN, new_y=YPos.NEXT.\n",
      "  self.cell(0, 8, 'EMA Crossovers:', 0, 1)\n"
     ]
    },
    {
     "name": "stdout",
     "output_type": "stream",
     "text": [
      "Analyzing BBNPPGOLD...\n"
     ]
    },
    {
     "name": "stderr",
     "output_type": "stream",
     "text": [
      "<ipython-input-3-d9af0657d8d1>:225: DeprecationWarning: The parameter \"ln\" is deprecated since v2.5.2. Instead of ln=1 use new_x=XPos.LMARGIN, new_y=YPos.NEXT.\n",
      "  self.cell(0, 10, f'{symbol} Institutional Analysis', 0, 1)\n",
      "<ipython-input-3-d9af0657d8d1>:229: DeprecationWarning: The parameter \"ln\" is deprecated since v2.5.2. Instead of ln=1 use new_x=XPos.LMARGIN, new_y=YPos.NEXT.\n",
      "  self.cell(0, 8, 'EMA Crossovers:', 0, 1)\n"
     ]
    },
    {
     "name": "stdout",
     "output_type": "stream",
     "text": [
      "Analyzing BLUEJET...\n"
     ]
    },
    {
     "name": "stderr",
     "output_type": "stream",
     "text": [
      "<ipython-input-3-d9af0657d8d1>:225: DeprecationWarning: The parameter \"ln\" is deprecated since v2.5.2. Instead of ln=1 use new_x=XPos.LMARGIN, new_y=YPos.NEXT.\n",
      "  self.cell(0, 10, f'{symbol} Institutional Analysis', 0, 1)\n",
      "<ipython-input-3-d9af0657d8d1>:229: DeprecationWarning: The parameter \"ln\" is deprecated since v2.5.2. Instead of ln=1 use new_x=XPos.LMARGIN, new_y=YPos.NEXT.\n",
      "  self.cell(0, 8, 'EMA Crossovers:', 0, 1)\n"
     ]
    },
    {
     "name": "stdout",
     "output_type": "stream",
     "text": [
      "Analyzing EGOLD...\n"
     ]
    },
    {
     "name": "stderr",
     "output_type": "stream",
     "text": [
      "<ipython-input-3-d9af0657d8d1>:225: DeprecationWarning: The parameter \"ln\" is deprecated since v2.5.2. Instead of ln=1 use new_x=XPos.LMARGIN, new_y=YPos.NEXT.\n",
      "  self.cell(0, 10, f'{symbol} Institutional Analysis', 0, 1)\n",
      "<ipython-input-3-d9af0657d8d1>:229: DeprecationWarning: The parameter \"ln\" is deprecated since v2.5.2. Instead of ln=1 use new_x=XPos.LMARGIN, new_y=YPos.NEXT.\n",
      "  self.cell(0, 8, 'EMA Crossovers:', 0, 1)\n"
     ]
    },
    {
     "name": "stdout",
     "output_type": "stream",
     "text": [
      "Analyzing GOLD1...\n"
     ]
    },
    {
     "name": "stderr",
     "output_type": "stream",
     "text": [
      "<ipython-input-3-d9af0657d8d1>:225: DeprecationWarning: The parameter \"ln\" is deprecated since v2.5.2. Instead of ln=1 use new_x=XPos.LMARGIN, new_y=YPos.NEXT.\n",
      "  self.cell(0, 10, f'{symbol} Institutional Analysis', 0, 1)\n",
      "<ipython-input-3-d9af0657d8d1>:229: DeprecationWarning: The parameter \"ln\" is deprecated since v2.5.2. Instead of ln=1 use new_x=XPos.LMARGIN, new_y=YPos.NEXT.\n",
      "  self.cell(0, 8, 'EMA Crossovers:', 0, 1)\n"
     ]
    },
    {
     "name": "stdout",
     "output_type": "stream",
     "text": [
      "Analyzing GOLDBEES...\n"
     ]
    },
    {
     "name": "stderr",
     "output_type": "stream",
     "text": [
      "<ipython-input-3-d9af0657d8d1>:225: DeprecationWarning: The parameter \"ln\" is deprecated since v2.5.2. Instead of ln=1 use new_x=XPos.LMARGIN, new_y=YPos.NEXT.\n",
      "  self.cell(0, 10, f'{symbol} Institutional Analysis', 0, 1)\n",
      "<ipython-input-3-d9af0657d8d1>:229: DeprecationWarning: The parameter \"ln\" is deprecated since v2.5.2. Instead of ln=1 use new_x=XPos.LMARGIN, new_y=YPos.NEXT.\n",
      "  self.cell(0, 8, 'EMA Crossovers:', 0, 1)\n"
     ]
    },
    {
     "name": "stdout",
     "output_type": "stream",
     "text": [
      "Analyzing GOLDETF...\n"
     ]
    },
    {
     "name": "stderr",
     "output_type": "stream",
     "text": [
      "<ipython-input-3-d9af0657d8d1>:225: DeprecationWarning: The parameter \"ln\" is deprecated since v2.5.2. Instead of ln=1 use new_x=XPos.LMARGIN, new_y=YPos.NEXT.\n",
      "  self.cell(0, 10, f'{symbol} Institutional Analysis', 0, 1)\n",
      "<ipython-input-3-d9af0657d8d1>:229: DeprecationWarning: The parameter \"ln\" is deprecated since v2.5.2. Instead of ln=1 use new_x=XPos.LMARGIN, new_y=YPos.NEXT.\n",
      "  self.cell(0, 8, 'EMA Crossovers:', 0, 1)\n"
     ]
    },
    {
     "name": "stdout",
     "output_type": "stream",
     "text": [
      "Analyzing GOLDETFADD...\n"
     ]
    },
    {
     "name": "stderr",
     "output_type": "stream",
     "text": [
      "<ipython-input-3-d9af0657d8d1>:225: DeprecationWarning: The parameter \"ln\" is deprecated since v2.5.2. Instead of ln=1 use new_x=XPos.LMARGIN, new_y=YPos.NEXT.\n",
      "  self.cell(0, 10, f'{symbol} Institutional Analysis', 0, 1)\n",
      "<ipython-input-3-d9af0657d8d1>:229: DeprecationWarning: The parameter \"ln\" is deprecated since v2.5.2. Instead of ln=1 use new_x=XPos.LMARGIN, new_y=YPos.NEXT.\n",
      "  self.cell(0, 8, 'EMA Crossovers:', 0, 1)\n"
     ]
    },
    {
     "name": "stdout",
     "output_type": "stream",
     "text": [
      "Analyzing GOLDIETF...\n"
     ]
    },
    {
     "name": "stderr",
     "output_type": "stream",
     "text": [
      "<ipython-input-3-d9af0657d8d1>:225: DeprecationWarning: The parameter \"ln\" is deprecated since v2.5.2. Instead of ln=1 use new_x=XPos.LMARGIN, new_y=YPos.NEXT.\n",
      "  self.cell(0, 10, f'{symbol} Institutional Analysis', 0, 1)\n",
      "<ipython-input-3-d9af0657d8d1>:229: DeprecationWarning: The parameter \"ln\" is deprecated since v2.5.2. Instead of ln=1 use new_x=XPos.LMARGIN, new_y=YPos.NEXT.\n",
      "  self.cell(0, 8, 'EMA Crossovers:', 0, 1)\n"
     ]
    },
    {
     "name": "stdout",
     "output_type": "stream",
     "text": [
      "Analyzing GOLDSHARE...\n"
     ]
    },
    {
     "name": "stderr",
     "output_type": "stream",
     "text": [
      "<ipython-input-3-d9af0657d8d1>:225: DeprecationWarning: The parameter \"ln\" is deprecated since v2.5.2. Instead of ln=1 use new_x=XPos.LMARGIN, new_y=YPos.NEXT.\n",
      "  self.cell(0, 10, f'{symbol} Institutional Analysis', 0, 1)\n",
      "<ipython-input-3-d9af0657d8d1>:229: DeprecationWarning: The parameter \"ln\" is deprecated since v2.5.2. Instead of ln=1 use new_x=XPos.LMARGIN, new_y=YPos.NEXT.\n",
      "  self.cell(0, 8, 'EMA Crossovers:', 0, 1)\n"
     ]
    },
    {
     "name": "stdout",
     "output_type": "stream",
     "text": [
      "Analyzing HDFCGOLD...\n"
     ]
    },
    {
     "name": "stderr",
     "output_type": "stream",
     "text": [
      "<ipython-input-3-d9af0657d8d1>:225: DeprecationWarning: The parameter \"ln\" is deprecated since v2.5.2. Instead of ln=1 use new_x=XPos.LMARGIN, new_y=YPos.NEXT.\n",
      "  self.cell(0, 10, f'{symbol} Institutional Analysis', 0, 1)\n",
      "<ipython-input-3-d9af0657d8d1>:229: DeprecationWarning: The parameter \"ln\" is deprecated since v2.5.2. Instead of ln=1 use new_x=XPos.LMARGIN, new_y=YPos.NEXT.\n",
      "  self.cell(0, 8, 'EMA Crossovers:', 0, 1)\n"
     ]
    },
    {
     "name": "stdout",
     "output_type": "stream",
     "text": [
      "Analyzing JINDRILL...\n"
     ]
    },
    {
     "name": "stderr",
     "output_type": "stream",
     "text": [
      "<ipython-input-3-d9af0657d8d1>:225: DeprecationWarning: The parameter \"ln\" is deprecated since v2.5.2. Instead of ln=1 use new_x=XPos.LMARGIN, new_y=YPos.NEXT.\n",
      "  self.cell(0, 10, f'{symbol} Institutional Analysis', 0, 1)\n",
      "<ipython-input-3-d9af0657d8d1>:229: DeprecationWarning: The parameter \"ln\" is deprecated since v2.5.2. Instead of ln=1 use new_x=XPos.LMARGIN, new_y=YPos.NEXT.\n",
      "  self.cell(0, 8, 'EMA Crossovers:', 0, 1)\n"
     ]
    },
    {
     "name": "stdout",
     "output_type": "stream",
     "text": [
      "Analyzing KRN...\n",
      "Analyzing LICMFGOLD...\n"
     ]
    },
    {
     "name": "stderr",
     "output_type": "stream",
     "text": [
      "<ipython-input-3-d9af0657d8d1>:225: DeprecationWarning: The parameter \"ln\" is deprecated since v2.5.2. Instead of ln=1 use new_x=XPos.LMARGIN, new_y=YPos.NEXT.\n",
      "  self.cell(0, 10, f'{symbol} Institutional Analysis', 0, 1)\n",
      "<ipython-input-3-d9af0657d8d1>:229: DeprecationWarning: The parameter \"ln\" is deprecated since v2.5.2. Instead of ln=1 use new_x=XPos.LMARGIN, new_y=YPos.NEXT.\n",
      "  self.cell(0, 8, 'EMA Crossovers:', 0, 1)\n"
     ]
    },
    {
     "name": "stdout",
     "output_type": "stream",
     "text": [
      "Analyzing LIQUIDSBI...\n"
     ]
    },
    {
     "name": "stderr",
     "output_type": "stream",
     "text": [
      "<ipython-input-3-d9af0657d8d1>:225: DeprecationWarning: The parameter \"ln\" is deprecated since v2.5.2. Instead of ln=1 use new_x=XPos.LMARGIN, new_y=YPos.NEXT.\n",
      "  self.cell(0, 10, f'{symbol} Institutional Analysis', 0, 1)\n",
      "<ipython-input-3-d9af0657d8d1>:229: DeprecationWarning: The parameter \"ln\" is deprecated since v2.5.2. Instead of ln=1 use new_x=XPos.LMARGIN, new_y=YPos.NEXT.\n",
      "  self.cell(0, 8, 'EMA Crossovers:', 0, 1)\n",
      "<ipython-input-3-d9af0657d8d1>:234: DeprecationWarning: The parameter \"ln\" is deprecated since v2.5.2. Instead of ln=1 use new_x=XPos.LMARGIN, new_y=YPos.NEXT.\n",
      "  self.cell(0, 8, f'Bullish: {\", \".join(crossovers[\"bullish\"])}', 0, 1)\n",
      "<ipython-input-3-d9af0657d8d1>:238: DeprecationWarning: The parameter \"ln\" is deprecated since v2.5.2. Instead of ln=1 use new_x=XPos.LMARGIN, new_y=YPos.NEXT.\n",
      "  self.cell(0, 8, f'Bearish: {\", \".join(crossovers[\"bearish\"])}', 0, 1)\n"
     ]
    },
    {
     "name": "stdout",
     "output_type": "stream",
     "text": [
      "Analyzing M&M...\n"
     ]
    },
    {
     "name": "stderr",
     "output_type": "stream",
     "text": [
      "<ipython-input-3-d9af0657d8d1>:225: DeprecationWarning: The parameter \"ln\" is deprecated since v2.5.2. Instead of ln=1 use new_x=XPos.LMARGIN, new_y=YPos.NEXT.\n",
      "  self.cell(0, 10, f'{symbol} Institutional Analysis', 0, 1)\n",
      "<ipython-input-3-d9af0657d8d1>:229: DeprecationWarning: The parameter \"ln\" is deprecated since v2.5.2. Instead of ln=1 use new_x=XPos.LMARGIN, new_y=YPos.NEXT.\n",
      "  self.cell(0, 8, 'EMA Crossovers:', 0, 1)\n",
      "<ipython-input-3-d9af0657d8d1>:234: DeprecationWarning: The parameter \"ln\" is deprecated since v2.5.2. Instead of ln=1 use new_x=XPos.LMARGIN, new_y=YPos.NEXT.\n",
      "  self.cell(0, 8, f'Bullish: {\", \".join(crossovers[\"bullish\"])}', 0, 1)\n"
     ]
    },
    {
     "name": "stdout",
     "output_type": "stream",
     "text": [
      "Analyzing MPSLTD...\n"
     ]
    },
    {
     "name": "stderr",
     "output_type": "stream",
     "text": [
      "<ipython-input-3-d9af0657d8d1>:225: DeprecationWarning: The parameter \"ln\" is deprecated since v2.5.2. Instead of ln=1 use new_x=XPos.LMARGIN, new_y=YPos.NEXT.\n",
      "  self.cell(0, 10, f'{symbol} Institutional Analysis', 0, 1)\n",
      "<ipython-input-3-d9af0657d8d1>:229: DeprecationWarning: The parameter \"ln\" is deprecated since v2.5.2. Instead of ln=1 use new_x=XPos.LMARGIN, new_y=YPos.NEXT.\n",
      "  self.cell(0, 8, 'EMA Crossovers:', 0, 1)\n"
     ]
    },
    {
     "name": "stdout",
     "output_type": "stream",
     "text": [
      "Analyzing OILCOUNTUB...\n"
     ]
    },
    {
     "name": "stderr",
     "output_type": "stream",
     "text": [
      "<ipython-input-3-d9af0657d8d1>:225: DeprecationWarning: The parameter \"ln\" is deprecated since v2.5.2. Instead of ln=1 use new_x=XPos.LMARGIN, new_y=YPos.NEXT.\n",
      "  self.cell(0, 10, f'{symbol} Institutional Analysis', 0, 1)\n",
      "<ipython-input-3-d9af0657d8d1>:229: DeprecationWarning: The parameter \"ln\" is deprecated since v2.5.2. Instead of ln=1 use new_x=XPos.LMARGIN, new_y=YPos.NEXT.\n",
      "  self.cell(0, 8, 'EMA Crossovers:', 0, 1)\n"
     ]
    },
    {
     "name": "stdout",
     "output_type": "stream",
     "text": [
      "Analyzing PARSVNATH...\n"
     ]
    },
    {
     "name": "stderr",
     "output_type": "stream",
     "text": [
      "<ipython-input-3-d9af0657d8d1>:225: DeprecationWarning: The parameter \"ln\" is deprecated since v2.5.2. Instead of ln=1 use new_x=XPos.LMARGIN, new_y=YPos.NEXT.\n",
      "  self.cell(0, 10, f'{symbol} Institutional Analysis', 0, 1)\n",
      "<ipython-input-3-d9af0657d8d1>:229: DeprecationWarning: The parameter \"ln\" is deprecated since v2.5.2. Instead of ln=1 use new_x=XPos.LMARGIN, new_y=YPos.NEXT.\n",
      "  self.cell(0, 8, 'EMA Crossovers:', 0, 1)\n"
     ]
    },
    {
     "name": "stdout",
     "output_type": "stream",
     "text": [
      "Analyzing POKARNA...\n"
     ]
    },
    {
     "name": "stderr",
     "output_type": "stream",
     "text": [
      "<ipython-input-3-d9af0657d8d1>:225: DeprecationWarning: The parameter \"ln\" is deprecated since v2.5.2. Instead of ln=1 use new_x=XPos.LMARGIN, new_y=YPos.NEXT.\n",
      "  self.cell(0, 10, f'{symbol} Institutional Analysis', 0, 1)\n",
      "<ipython-input-3-d9af0657d8d1>:229: DeprecationWarning: The parameter \"ln\" is deprecated since v2.5.2. Instead of ln=1 use new_x=XPos.LMARGIN, new_y=YPos.NEXT.\n",
      "  self.cell(0, 8, 'EMA Crossovers:', 0, 1)\n",
      "<ipython-input-3-d9af0657d8d1>:234: DeprecationWarning: The parameter \"ln\" is deprecated since v2.5.2. Instead of ln=1 use new_x=XPos.LMARGIN, new_y=YPos.NEXT.\n",
      "  self.cell(0, 8, f'Bullish: {\", \".join(crossovers[\"bullish\"])}', 0, 1)\n"
     ]
    },
    {
     "name": "stdout",
     "output_type": "stream",
     "text": [
      "Analyzing QGOLDHALF...\n"
     ]
    },
    {
     "name": "stderr",
     "output_type": "stream",
     "text": [
      "<ipython-input-3-d9af0657d8d1>:225: DeprecationWarning: The parameter \"ln\" is deprecated since v2.5.2. Instead of ln=1 use new_x=XPos.LMARGIN, new_y=YPos.NEXT.\n",
      "  self.cell(0, 10, f'{symbol} Institutional Analysis', 0, 1)\n",
      "<ipython-input-3-d9af0657d8d1>:229: DeprecationWarning: The parameter \"ln\" is deprecated since v2.5.2. Instead of ln=1 use new_x=XPos.LMARGIN, new_y=YPos.NEXT.\n",
      "  self.cell(0, 8, 'EMA Crossovers:', 0, 1)\n"
     ]
    },
    {
     "name": "stdout",
     "output_type": "stream",
     "text": [
      "Analyzing QUADFUTURE...\n",
      "Analyzing SETFGOLD...\n"
     ]
    },
    {
     "name": "stderr",
     "output_type": "stream",
     "text": [
      "<ipython-input-3-d9af0657d8d1>:225: DeprecationWarning: The parameter \"ln\" is deprecated since v2.5.2. Instead of ln=1 use new_x=XPos.LMARGIN, new_y=YPos.NEXT.\n",
      "  self.cell(0, 10, f'{symbol} Institutional Analysis', 0, 1)\n",
      "<ipython-input-3-d9af0657d8d1>:229: DeprecationWarning: The parameter \"ln\" is deprecated since v2.5.2. Instead of ln=1 use new_x=XPos.LMARGIN, new_y=YPos.NEXT.\n",
      "  self.cell(0, 8, 'EMA Crossovers:', 0, 1)\n"
     ]
    },
    {
     "name": "stdout",
     "output_type": "stream",
     "text": [
      "Analyzing SHAILY...\n"
     ]
    },
    {
     "name": "stderr",
     "output_type": "stream",
     "text": [
      "<ipython-input-3-d9af0657d8d1>:225: DeprecationWarning: The parameter \"ln\" is deprecated since v2.5.2. Instead of ln=1 use new_x=XPos.LMARGIN, new_y=YPos.NEXT.\n",
      "  self.cell(0, 10, f'{symbol} Institutional Analysis', 0, 1)\n",
      "<ipython-input-3-d9af0657d8d1>:229: DeprecationWarning: The parameter \"ln\" is deprecated since v2.5.2. Instead of ln=1 use new_x=XPos.LMARGIN, new_y=YPos.NEXT.\n",
      "  self.cell(0, 8, 'EMA Crossovers:', 0, 1)\n"
     ]
    },
    {
     "name": "stdout",
     "output_type": "stream",
     "text": [
      "Analyzing SRF...\n"
     ]
    },
    {
     "name": "stderr",
     "output_type": "stream",
     "text": [
      "<ipython-input-3-d9af0657d8d1>:225: DeprecationWarning: The parameter \"ln\" is deprecated since v2.5.2. Instead of ln=1 use new_x=XPos.LMARGIN, new_y=YPos.NEXT.\n",
      "  self.cell(0, 10, f'{symbol} Institutional Analysis', 0, 1)\n",
      "<ipython-input-3-d9af0657d8d1>:229: DeprecationWarning: The parameter \"ln\" is deprecated since v2.5.2. Instead of ln=1 use new_x=XPos.LMARGIN, new_y=YPos.NEXT.\n",
      "  self.cell(0, 8, 'EMA Crossovers:', 0, 1)\n"
     ]
    },
    {
     "name": "stdout",
     "output_type": "stream",
     "text": [
      "Analyzing UPL...\n"
     ]
    },
    {
     "name": "stderr",
     "output_type": "stream",
     "text": [
      "<ipython-input-3-d9af0657d8d1>:225: DeprecationWarning: The parameter \"ln\" is deprecated since v2.5.2. Instead of ln=1 use new_x=XPos.LMARGIN, new_y=YPos.NEXT.\n",
      "  self.cell(0, 10, f'{symbol} Institutional Analysis', 0, 1)\n",
      "<ipython-input-3-d9af0657d8d1>:229: DeprecationWarning: The parameter \"ln\" is deprecated since v2.5.2. Instead of ln=1 use new_x=XPos.LMARGIN, new_y=YPos.NEXT.\n",
      "  self.cell(0, 8, 'EMA Crossovers:', 0, 1)\n",
      "<ipython-input-3-d9af0657d8d1>:234: DeprecationWarning: The parameter \"ln\" is deprecated since v2.5.2. Instead of ln=1 use new_x=XPos.LMARGIN, new_y=YPos.NEXT.\n",
      "  self.cell(0, 8, f'Bullish: {\", \".join(crossovers[\"bullish\"])}', 0, 1)\n"
     ]
    },
    {
     "name": "stdout",
     "output_type": "stream",
     "text": [
      "Analyzing V2RETAIL...\n"
     ]
    },
    {
     "name": "stderr",
     "output_type": "stream",
     "text": [
      "<ipython-input-3-d9af0657d8d1>:225: DeprecationWarning: The parameter \"ln\" is deprecated since v2.5.2. Instead of ln=1 use new_x=XPos.LMARGIN, new_y=YPos.NEXT.\n",
      "  self.cell(0, 10, f'{symbol} Institutional Analysis', 0, 1)\n",
      "<ipython-input-3-d9af0657d8d1>:229: DeprecationWarning: The parameter \"ln\" is deprecated since v2.5.2. Instead of ln=1 use new_x=XPos.LMARGIN, new_y=YPos.NEXT.\n",
      "  self.cell(0, 8, 'EMA Crossovers:', 0, 1)\n"
     ]
    },
    {
     "name": "stdout",
     "output_type": "stream",
     "text": [
      "Analyzing VMM...\n",
      "Analyzing WEL...\n"
     ]
    },
    {
     "name": "stderr",
     "output_type": "stream",
     "text": [
      "<ipython-input-3-d9af0657d8d1>:225: DeprecationWarning: The parameter \"ln\" is deprecated since v2.5.2. Instead of ln=1 use new_x=XPos.LMARGIN, new_y=YPos.NEXT.\n",
      "  self.cell(0, 10, f'{symbol} Institutional Analysis', 0, 1)\n",
      "<ipython-input-3-d9af0657d8d1>:229: DeprecationWarning: The parameter \"ln\" is deprecated since v2.5.2. Instead of ln=1 use new_x=XPos.LMARGIN, new_y=YPos.NEXT.\n",
      "  self.cell(0, 8, 'EMA Crossovers:', 0, 1)\n"
     ]
    },
    {
     "name": "stdout",
     "output_type": "stream",
     "text": [
      "Analyzing WOCKPHARMA...\n"
     ]
    },
    {
     "name": "stderr",
     "output_type": "stream",
     "text": [
      "<ipython-input-3-d9af0657d8d1>:225: DeprecationWarning: The parameter \"ln\" is deprecated since v2.5.2. Instead of ln=1 use new_x=XPos.LMARGIN, new_y=YPos.NEXT.\n",
      "  self.cell(0, 10, f'{symbol} Institutional Analysis', 0, 1)\n",
      "<ipython-input-3-d9af0657d8d1>:229: DeprecationWarning: The parameter \"ln\" is deprecated since v2.5.2. Instead of ln=1 use new_x=XPos.LMARGIN, new_y=YPos.NEXT.\n",
      "  self.cell(0, 8, 'EMA Crossovers:', 0, 1)\n",
      "<ipython-input-3-d9af0657d8d1>:234: DeprecationWarning: The parameter \"ln\" is deprecated since v2.5.2. Instead of ln=1 use new_x=XPos.LMARGIN, new_y=YPos.NEXT.\n",
      "  self.cell(0, 8, f'Bullish: {\", \".join(crossovers[\"bullish\"])}', 0, 1)\n"
     ]
    },
    {
     "name": "stdout",
     "output_type": "stream",
     "text": [
      "Professional report generated\n"
     ]
    }
   ],
   "source": [
    "## best w cross over code\n",
    "import matplotlib.pyplot as plt\n",
    "import yfinance as yf\n",
    "import pandas as pd\n",
    "import mplfinance as mpf\n",
    "from fpdf import FPDF\n",
    "print(\"here\")\n",
    "from datetime import datetime, timedelta\n",
    "import pytz\n",
    "from nselib import capital_market\n",
    "import os\n",
    "# flask\n",
    "from flask import Flask, jsonify\n",
    "import smtplib\n",
    "from email.mime.multipart import MIMEMultipart\n",
    "from email.mime.text import MIMEText\n",
    "from email.mime.base import MIMEBase\n",
    "from email import encoders\n",
    "# ----------------------------\n",
    "# Email and Flask Setup\n",
    "# ----------------------------\n",
    "user_emails = [\"ai20.vivek.patel@gmail.com\", \"kachhiaaryan1@gmail.com\"]\n",
    "\n",
    "EMAIL_CONFIG = {\n",
    "    'address': \"ai20.vivek.patel@gmail.com\",\n",
    "    'password': \"kqql idxz noog lxpt\",\n",
    "    'smtp_server': \"smtp.gmail.com\",\n",
    "    'smtp_port': 587\n",
    "}\n",
    "\n",
    "def send_email(attachments, recipient_email):\n",
    "    \"\"\"Send email with multiple attachments\"\"\"\n",
    "    msg = MIMEMultipart()\n",
    "    msg['From'] = EMAIL_CONFIG['address']\n",
    "    msg['To'] = recipient_email\n",
    "    msg['Subject'] = \"📈 Stock Crossover Analysis Report from Vivek Patel\"\n",
    "\n",
    "    # HTML body for the email\n",
    "    body = \"\"\"\n",
    "    <html>\n",
    "        <body style=\"font-family: Arial, sans-serif; line-height: 1.6; color: #333;\">\n",
    "            <h2 style=\"color: #4CAF50;\">Hello, User</h2>\n",
    "            <p>We are pleased to share with you the latest <strong>Stock Crossover Analysis Reports</strong>.</p>\n",
    "            <p>Please find the attached reports below:</p>\n",
    "            <ul>\n",
    "                <li><strong>Bullish Crossovers</strong></li>\n",
    "                <li><strong>Bearish Crossovers</strong></li>\n",
    "                <li><strong>All Ticker Charts</strong></li>\n",
    "            </ul>\n",
    "            <p>If you have any questions or need further assistance, feel free to reach out!</p>\n",
    "            <p>Best regards,<br>\n",
    "            Vivek Patel<br>\n",
    "            <a href=\"mailto:ai20.vivek.patel@gmail.com\">ai20.vivek.patel@gmail.com</a></p>\n",
    "        </body>\n",
    "    </html>\n",
    "    \"\"\"\n",
    "    msg.attach(MIMEText(body, 'html'))\n",
    "\n",
    "    for file in attachments:\n",
    "        with open(file, 'rb') as f:\n",
    "            part = MIMEBase('application', 'octet-stream')\n",
    "            part.set_payload(f.read())\n",
    "            encoders.encode_base64(part)\n",
    "            part.add_header('Content-Disposition',\n",
    "                            f'attachment; filename=\"{os.path.basename(file)}\"')\n",
    "            msg.attach(part)\n",
    "\n",
    "    with smtplib.SMTP(EMAIL_CONFIG['smtp_server'], EMAIL_CONFIG['smtp_port']) as server:\n",
    "        server.starttls()\n",
    "        server.login(EMAIL_CONFIG['address'], EMAIL_CONFIG['password'])\n",
    "        server.sendmail(EMAIL_CONFIG['address'], recipient_email, msg.as_string())\n",
    "\n",
    "# --------------------------\n",
    "# Configuration\n",
    "# --------------------------\n",
    "class Config:\n",
    "    EMA_PERIODS = [10, 50, 100]\n",
    "    CROSSOVER_LOOKBACK = 5\n",
    "    INSTITUTIONAL_FILTERS = {\n",
    "        'min_mcap': 20000,\n",
    "        'avg_volume': 500000\n",
    "    }\n",
    "\n",
    "# --------------------------\n",
    "# Data Acquisition\n",
    "# --------------------------\n",
    "def get_52_week_high_tickers(max_attempts=3):\n",
    "    \"\"\"Fetch 52-week high stocks with error handling\"\"\"\n",
    "    india_tz = pytz.timezone(\"Asia/Kolkata\")\n",
    "    print(\"here23\")\n",
    "    print(india_tz)\n",
    "    for attempt in range(max_attempts):\n",
    "        trade_date = (datetime.now(india_tz) - timedelta(days=attempt)).strftime(\"%d-%m-%Y\")\n",
    "        print(\"trade_date\",trade_date)\n",
    "        try:\n",
    "            report = capital_market.week_52_high_low_report(trade_date)\n",
    "            print(\"trade_date2\",report)\n",
    "            prev_date = datetime.now(india_tz) - timedelta(days=attempt+1)\n",
    "            prev_date_str = prev_date.strftime(\"%d-%b-%Y\").upper()\n",
    "            print(\"trade_date2\",trade_date)\n",
    "            new_highs = report[report[\"52_Week_High_Date\"] == prev_date_str]\n",
    "            return new_highs[\"SYMBOL\"].tolist()\n",
    "        except Exception as e:\n",
    "            print(f\"Attempt {attempt+1} failed: {str(e)}\")\n",
    "\n",
    "    return []\n",
    "\n",
    "# --------------------------\n",
    "# Technical Analysis Engine\n",
    "# --------------------------\n",
    "class CrossoverAnalyzer:\n",
    "    def __init__(self, symbol):\n",
    "        self.symbol = symbol\n",
    "        self.data = self._get_data()\n",
    "        self.emas = {}\n",
    "        self.crossovers = {}\n",
    "    def calculate_emas(self):\n",
    "        \"\"\"Calculate EMAs with validation\"\"\"\n",
    "        if not self.data.empty:\n",
    "            for period in Config.EMA_PERIODS:\n",
    "                self.emas[period] = self.data['Close'].ewm(span=period, adjust=False).mean()\n",
    "            return True\n",
    "        return False\n",
    "    def _get_data(self):\n",
    "        \"\"\"Fetch data with proper length validation\"\"\"\n",
    "        try:\n",
    "            df = yf.Ticker(f\"{self.symbol}.NS\").history(period='max', interval='1mo')\n",
    "            return df[['Open', 'High', 'Low', 'Close', 'Volume']]\n",
    "        except Exception as e:\n",
    "            print(f\"Data error for {self.symbol}: {str(e)}\")\n",
    "            return pd.DataFrame()\n",
    "\n",
    "\n",
    "    def detect_crossovers(self):\n",
    "        \"\"\"Fixed indexing implementation\"\"\"\n",
    "        self.crossovers = {'bullish': [], 'bearish': []}\n",
    "        pairs = [(10,50), (10,100), (50,100)]\n",
    "\n",
    "        for short, long in pairs:\n",
    "            if len(self.data) < Config.CROSSOVER_LOOKBACK:\n",
    "                continue\n",
    "\n",
    "            # Use iloc for positional indexing\n",
    "            recent_short = self.emas[short].iloc[-Config.CROSSOVER_LOOKBACK:]\n",
    "            recent_long = self.emas[long].iloc[-Config.CROSSOVER_LOOKBACK:]\n",
    "            diff = recent_short - recent_long\n",
    "\n",
    "            for i in range(1, len(diff)):\n",
    "                if diff.iloc[i-1] < 0 and diff.iloc[i] > 0:\n",
    "                    self.crossovers['bullish'].append(f\"EMA{short}/EMA{long}\")\n",
    "                elif diff.iloc[i-1] > 0 and diff.iloc[i] < 0:\n",
    "                    self.crossovers['bearish'].append(f\"EMA{short}/EMA{long}\")\n",
    "\n",
    "        return self.crossovers\n",
    "\n",
    "    # Fixed legend colors\n",
    "    def plot_analysis(self):\n",
    "      \"\"\"Fixed plotting with aligned indices\"\"\"\n",
    "      if self.data.empty or len(self.data) < 30:\n",
    "          return None\n",
    "\n",
    "      plot_days = min(120, len(self.data))  # Dynamic plot range\n",
    "      plot_data = self.data.iloc[-plot_days:]\n",
    "\n",
    "      apds = [\n",
    "          mpf.make_addplot(self.emas[10].iloc[-plot_days:], color='blue'),\n",
    "          mpf.make_addplot(self.emas[50].iloc[-plot_days:], color='orange'),\n",
    "          mpf.make_addplot(self.emas[100].iloc[-plot_days:], color='green')\n",
    "      ]\n",
    "\n",
    "      fig, ax = mpf.plot(plot_data,\n",
    "                        type='candle',\n",
    "                        addplot=apds,\n",
    "                        volume=True,\n",
    "                        style='yahoo',\n",
    "                        returnfig=True)\n",
    "\n",
    "      ax[0].set_title(f\"{self.symbol} - EMA Crossovers\")\n",
    "      ax[0].set_xlabel('Date')\n",
    "      ax[0].set_ylabel('Price')\n",
    "      ax[0].grid(True)\n",
    "\n",
    "      # Explicitly define the legend handles with the correct colors\n",
    "      ema10_line, = ax[0].plot([], [], color='blue', label='EMA10')  # Empty line for legend\n",
    "      ema50_line, = ax[0].plot([], [], color='orange', label='EMA50')\n",
    "      ema100_line, = ax[0].plot([], [], color='green', label='EMA100')\n",
    "\n",
    "      # Manually set the legend\n",
    "      ax[0].legend(handles=[ema10_line, ema50_line, ema100_line],\n",
    "                  loc='upper left',\n",
    "                  facecolor='white',  # Optional: set the legend background color\n",
    "                  frameon=True,       # Optional: whether to display a frame\n",
    "                  handlelength=2,     # Optional: length of the legend handles\n",
    "                  title=\"Exponential Moving Averages\")  # Optional: title for the legend\n",
    "      # Annotate only visible area\n",
    "      for i in range(len(plot_data)):\n",
    "          idx = i + (len(self.data) - plot_days)\n",
    "          for crossover in self.crossovers['bullish']:\n",
    "              short, long = map(int, crossover.replace('EMA', '').split('/'))\n",
    "              if (self.emas[short].iloc[idx] > self.emas[long].iloc[idx] and\n",
    "                  self.emas[short].iloc[idx-1] <= self.emas[long].iloc[idx-1]):\n",
    "                  ax[0].annotate('▲', (i, plot_data['Close'].iloc[i]),\n",
    "                                color='g', fontsize=9)\n",
    "\n",
    "          for crossover in self.crossovers['bearish']:\n",
    "              short, long = map(int, crossover.replace('EMA', '').split('/'))\n",
    "              if (self.emas[short].iloc[idx] < self.emas[long].iloc[idx] and\n",
    "                  self.emas[short].iloc[idx-1] >= self.emas[long].iloc[idx-1]):\n",
    "                  ax[0].annotate('▼', (i, plot_data['Close'].iloc[i]),\n",
    "                                color='r', fontsize=9)\n",
    "\n",
    "      chart_path = f\"{self.symbol}_chart.png\"\n",
    "      fig.savefig(chart_path, dpi=100, bbox_inches='tight')\n",
    "      plt.close()\n",
    "      return chart_path\n",
    "\n",
    "\n",
    "\n",
    "class InstitutionalReport(FPDF):\n",
    "    def add_stock_analysis(self, symbol, crossovers, chart_path):\n",
    "        # Add a new page for each stock analysis\n",
    "        self.add_page()\n",
    "\n",
    "        # Header\n",
    "        self.set_font('Helvetica', 'B', 14)\n",
    "        self.cell(0, 10, f'{symbol} Institutional Analysis', 0, 1)\n",
    "\n",
    "        # Crossover Signals\n",
    "        self.set_font('Helvetica', 'B', 12)\n",
    "        self.cell(0, 8, 'EMA Crossovers:', 0, 1)\n",
    "        self.set_font('Helvetica', '', 10)\n",
    "\n",
    "        if crossovers['bullish']:\n",
    "            self.set_text_color(0, 128, 0)\n",
    "            self.cell(0, 8, f'Bullish: {\", \".join(crossovers[\"bullish\"])}', 0, 1)\n",
    "\n",
    "        if crossovers['bearish']:\n",
    "            self.set_text_color(255, 0, 0)\n",
    "            self.cell(0, 8, f'Bearish: {\", \".join(crossovers[\"bearish\"])}', 0, 1)\n",
    "\n",
    "        self.set_text_color(0, 0, 0)\n",
    "\n",
    "        # Chart\n",
    "        self.image(chart_path, x=10, w=190)\n",
    "        os.remove(chart_path)\n",
    "\n",
    "# --------------------------\n",
    "# Execution Workflow\n",
    "# --------------------------\n",
    "def generate_full_report():\n",
    "    report = InstitutionalReport()  # Create report instance once\n",
    "    print(\"here2\")\n",
    "    # Get 52-week high stocks\n",
    "    high_tickers = get_52_week_high_tickers()\n",
    "    print(f\"52-week high stocks found: {len(high_tickers)}\")\n",
    "\n",
    "    for symbol in high_tickers:\n",
    "        print(f\"Analyzing {symbol}...\")\n",
    "        analyzer = CrossoverAnalyzer(symbol)\n",
    "        if not analyzer.data.empty:\n",
    "            analyzer.calculate_emas()\n",
    "            crossovers = analyzer.detect_crossovers()\n",
    "            chart_path = analyzer.plot_analysis()\n",
    "\n",
    "            if chart_path:\n",
    "                report.add_stock_analysis(symbol, crossovers, chart_path)\n",
    "\n",
    "    # Output the report only once after adding all stock analyses\n",
    "    report.output('Institutional_Crossover_Report.pdf')\n",
    "    for recipient in user_emails:\n",
    "        send_email(['Institutional_Crossover_Report.pdf'], recipient)\n",
    "    print(\"Professional report generated\")\n",
    "\n",
    "\n",
    "# --------------------------\n",
    "# Main Execution\n",
    "# --------------------------\n",
    "app = Flask(__name__)\n",
    "# @app.route('/generate_report', methods=['GET'])\n",
    "def generate_report():\n",
    "    generate_full_report()\n",
    "    # return jsonify({\"message\": \"Report generation initiated\"})\n",
    "\n",
    "# Requirements:\n",
    "# pip install yfinance pandas mplfinance nselib fpdf2 scipy\n",
    "if __name__ == '__main__':\n",
    "    # app.run(host='0.0.0.0', port=5000)\n",
    "    generate_report()"
   ]
  },
  {
   "cell_type": "code",
   "execution_count": null,
   "metadata": {
    "trusted": true
   },
   "outputs": [],
   "source": []
  }
 ],
 "metadata": {
  "kaggle": {
   "accelerator": "none",
   "dataSources": [],
   "dockerImageVersionId": 30839,
   "isGpuEnabled": false,
   "isInternetEnabled": true,
   "language": "python",
   "sourceType": "notebook"
  },
  "kernelspec": {
   "display_name": "Python 3",
   "language": "python",
   "name": "python3"
  },
  "language_info": {
   "codemirror_mode": {
    "name": "ipython",
    "version": 3
   },
   "file_extension": ".py",
   "mimetype": "text/x-python",
   "name": "python",
   "nbconvert_exporter": "python",
   "pygments_lexer": "ipython3",
   "version": "3.10.12"
  }
 },
 "nbformat": 4,
 "nbformat_minor": 4
}
